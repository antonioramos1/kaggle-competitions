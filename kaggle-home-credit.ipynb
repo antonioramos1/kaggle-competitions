{
 "cells": [
  {
   "cell_type": "markdown",
   "metadata": {},
   "source": [
    "## Resources:\n",
    "Kernels:  \n",
    "https://www.kaggle.com/willkoehrsen/start-here-a-gentle-introduction Basic EDA and model for the train/test data  \n",
    "https://www.kaggle.com/jsaguiar/updated-0-792-lb-lightgbm-with-simple-features Advanced feature engineering, excellent code  \n",
    "https://www.kaggle.com/poohtls/fork-of-fork-lightgbm-with-simple-features/ More advanced feature engineering  \n",
    "https://www.kaggle.com/gemartin/load-data-reduce-memory-usage  reducing memory usage  \n",
    "\n",
    "Discussions:  \n",
    "https://www.kaggle.com/c/home-credit-default-risk/discussion/58332 Advice on this competition by Kaggle's GM  \n",
    "https://www.kaggle.com/c/home-credit-default-risk/discussion/59308  KFold vs StratifiedKFold  \n",
    "   \n",
    "Research:  \n",
    "http://www.chioka.in/class-imbalance-problem/  Class imbalance problem  \n",
    "https://www.youtube.com/watch?v=OAl6eAyP-yo ROC Curve and AUC explained  \n",
    "https://stats.stackexchange.com/questions/132777/what-does-auc-stand-for-and-what-is-it Interpretation of AUC  \n",
    "https://dnc1994.com/2016/05/rank-10-percent-in-first-kaggle-competition-en/ General advice on Kaggle, basic implementation of a stacking model\n",
    "http://blog.kaggle.com/2017/01/23/a-kaggle-master-explains-gradient-boosting/ Boosting explained  \n",
    "https://www.analyticsvidhya.com/blog/2015/11/quick-introduction-boosting-algorithms-machine-learning/ Boosting explained 2  \n",
    "https://www.analyticsvidhya.com/blog/2017/06/which-algorithm-takes-the-crown-light-gbm-vs-xgboost/ LightGBM vs XGBoost  \n",
    "https://machinelearningmastery.com/best-tune-multithreading-support-xgboost-python/  XGBoost performance tuning  \n",
    "https://tech.yandex.com/catboost/doc/dg/concepts/python-reference_catboostclassifier-docpage/ CatBoost documentation  \n",
    "https://github.com/catboost/catboost/issues/105 CatBoost killing kernel bug\n",
    "\n",
    "\n",
    "'''\n",
    "https://www.kaggle.com/c/home-credit-default-risk/discussion/58332\n",
    "Silogram:\n",
    "Actually, I run the CV just once. \n",
    "The purpose of the CV is to tune the lgb parameters, test features, and obtain the optimal number of iterations.\n",
    "For submissions, I train 5 times on the full training set, changing the lgb seeds each time.\n",
    "Then I take the mean of the predictions across each row.\n",
    "Actually since the metric is auc, I take the rank mean, though it doesn't make a big difference in this case.\n",
    "'''\n",
    "\n",
    "'''\n",
    "If you're using xgboost, switch to LightGBM, which is much faster.\n",
    "(That's not to say that you shouldn't eventually use XGB to build a model,\n",
    "but it makes more sense to start with LGB and then move on to XGB when you can no longer improve your LGB model.)'''\n",
    "\n",
    "'''\n",
    "Start with a relatively high learning rate (e.g., 0.2 or 0.1) and tune the other parameters with this high rate.\n",
    "Then lower the learning rate and fine-tune the parameters.'''"
   ]
  },
  {
   "cell_type": "markdown",
   "metadata": {},
   "source": [
    "## Log  \n",
    "\n",
    "*1/07/2018*\n",
    "> Working on top of https://www.kaggle.com/jsaguiar/updated-0-792-lb-lightgbm-with-simple-features, using a stratified 5fold with LightGBM  \n",
    "AUC CV: 0.791  \n",
    "AUC LB: **0.794**  "
   ]
  },
  {
   "cell_type": "code",
   "execution_count": 1,
   "metadata": {},
   "outputs": [],
   "source": [
    "import os\n",
    "import numpy as np\n",
    "import pandas as pd\n",
    "import matplotlib.pyplot as plt\n",
    "import seaborn as sns\n",
    "import warnings\n",
    "warnings.simplefilter(action='ignore', category=FutureWarning)\n",
    "\n",
    "from xgboost import XGBClassifier\n",
    "from catboost import CatBoostClassifier\n",
    "from lightgbm import LGBMClassifier\n",
    "from sklearn.model_selection import cross_val_score, KFold, StratifiedKFold\n",
    "from sklearn.metrics import roc_auc_score"
   ]
  },
  {
   "cell_type": "code",
   "execution_count": 3,
   "metadata": {},
   "outputs": [],
   "source": [
    "# script to reduce memory usage -> https://www.kaggle.com/gemartin/load-data-reduce-memory-usage\n",
    "def reduce_mem_usage(df):\n",
    "    \"\"\" iterate through all the columns of a dataframe and modify the data type\n",
    "        to reduce memory usage.        \n",
    "    \"\"\"\n",
    "    start_mem = df.memory_usage().sum() / 1024**2\n",
    "    print('Memory usage of dataframe is {:.2f} MB'.format(start_mem))\n",
    "    \n",
    "    for col in df.columns:\n",
    "        col_type = df[col].dtypes\n",
    "        \n",
    "        if col_type != object:\n",
    "            c_min = df[col].min()\n",
    "            c_max = df[col].max()\n",
    "            if str(col_type)[:3] == 'int':\n",
    "                if c_min > np.iinfo(np.int8).min and c_max < np.iinfo(np.int8).max: #checing if the values fall within these ranges and reallocating them to optimise space\n",
    "                    df[col] = df[col].astype(np.int8)\n",
    "                elif c_min > np.iinfo(np.int16).min and c_max < np.iinfo(np.int16).max:\n",
    "                    df[col] = df[col].astype(np.int16)\n",
    "                elif c_min > np.iinfo(np.int32).min and c_max < np.iinfo(np.int32).max:\n",
    "                    df[col] = df[col].astype(np.int32)\n",
    "                elif c_min > np.iinfo(np.int64).min and c_max < np.iinfo(np.int64).max:\n",
    "                    df[col] = df[col].astype(np.int64)  \n",
    "            else:\n",
    "                if c_min > np.finfo(np.float16).min and c_max < np.finfo(np.float16).max:\n",
    "                    df[col] = df[col].astype(np.float16)\n",
    "                elif c_min > np.finfo(np.float32).min and c_max < np.finfo(np.float32).max:\n",
    "                    df[col] = df[col].astype(np.float32)\n",
    "                else:\n",
    "                    df[col] = df[col].astype(np.float64)\n",
    "        #else: df[col] = df[col].astype('category')\n",
    "\n",
    "    end_mem = df.memory_usage().sum() / 1024**2  # 1KB = 1024 bytes\n",
    "    print('Memory usage after optimization is: {:.2f} MB'.format(end_mem))\n",
    "    print('Decreased by {:.1f}%'.format(100 * (start_mem - end_mem) / start_mem))\n",
    "    \n",
    "    return df"
   ]
  },
  {
   "cell_type": "markdown",
   "metadata": {},
   "source": [
    "#### Bureau files"
   ]
  },
  {
   "cell_type": "code",
   "execution_count": 4,
   "metadata": {
    "scrolled": true
   },
   "outputs": [
    {
     "name": "stdout",
     "output_type": "stream",
     "text": [
      "bureau:  (1716428, 17)\n",
      "bureau_balance:  (27299925, 3)\n"
     ]
    }
   ],
   "source": [
    "bureau = pd.read_csv(\"C:\\\\Users\\\\heret\\\\Downloads\\\\bureau.csv\")\n",
    "bureau_balance = pd.read_csv(\"C:\\\\Users\\\\heret\\\\Downloads\\\\bureau_balance.csv\")\n",
    "\n",
    "print(\"bureau: \", bureau.shape)\n",
    "print(\"bureau_balance: \", bureau_balance.shape)\n",
    "\n",
    "#aggregations on months_balance\n",
    "bureau_balance_agg = bureau_balance.drop(columns=[\"STATUS\"]).groupby(\"SK_ID_BUREAU\").agg([\"mean\", \"max\", \"min\", \"sum\",\"count\"])\n",
    "bureau_balance_agg.columns = [\"months_balance\"+\"_\" + colname for colname in bureau_balance_agg.columns.levels[1]]\n",
    "\n",
    "#OHE and agg status\n",
    "bureau_balance = pd.get_dummies(bureau_balance, dummy_na=True)\n",
    "bureau_balance = bureau_balance.drop(columns=[\"MONTHS_BALANCE\"]).groupby(\"SK_ID_BUREAU\").agg(['sum', 'mean'])\n",
    "bureau_balance.columns = [col[0]+\"_\"+col[1] for col in bureau_balance.columns.tolist()]\n",
    "\n",
    "#merging the 2 sets\n",
    "bureau_balance_agg = pd.concat((bureau_balance_agg, bureau_balance),sort=False,axis=1)"
   ]
  },
  {
   "cell_type": "code",
   "execution_count": 5,
   "metadata": {},
   "outputs": [],
   "source": [
    "bureau = bureau.join(bureau_balance_agg, how=\"left\", on=\"SK_ID_BUREAU\").drop(columns=[\"SK_ID_BUREAU\"])"
   ]
  },
  {
   "cell_type": "code",
   "execution_count": 6,
   "metadata": {},
   "outputs": [],
   "source": [
    "new_cols = [col for col in pd.get_dummies(bureau).columns if col not in bureau.columns]\n",
    "\n",
    "num_aggregations = {\n",
    "    'DAYS_CREDIT': ['min', 'max', 'mean', 'var'],\n",
    "    'DAYS_CREDIT_ENDDATE': ['min', 'max', 'mean'],\n",
    "    'DAYS_CREDIT_UPDATE': ['mean'],\n",
    "    'CREDIT_DAY_OVERDUE': ['max', 'mean'],\n",
    "    'AMT_CREDIT_MAX_OVERDUE': ['mean'],\n",
    "    'AMT_CREDIT_SUM': ['max', 'mean', 'sum'],\n",
    "    'AMT_CREDIT_SUM_DEBT': ['max', 'mean', 'sum'],\n",
    "    'AMT_CREDIT_SUM_OVERDUE': ['mean'],\n",
    "    'AMT_CREDIT_SUM_LIMIT': ['mean', 'sum'],\n",
    "    'AMT_ANNUITY': ['max', 'mean'],\n",
    "    'CNT_CREDIT_PROLONG': ['sum'],\n",
    "    \"months_balance_mean\": [\"mean\"],\n",
    "    \"months_balance_max\": [\"max\"],\n",
    "    \"months_balance_min\": [\"min\"],\n",
    "    \"months_balance_sum\": [\"sum\"],\n",
    "    \"months_balance_count\": [\"count\"],\n",
    "    \"STATUS_0_sum\": [\"sum\"],\n",
    "    \"STATUS_0_mean\": [\"mean\"],\n",
    "    \"STATUS_1_sum\": [\"sum\"],\n",
    "    \"STATUS_1_mean\": [\"mean\"],\n",
    "    \"STATUS_2_sum\": [\"sum\"],\n",
    "    \"STATUS_2_mean\": [\"mean\"],\n",
    "    \"STATUS_3_sum\": [\"sum\"],\n",
    "    \"STATUS_3_mean\": [\"mean\"],\n",
    "    \"STATUS_4_sum\": [\"sum\"],\n",
    "    \"STATUS_4_mean\": [\"mean\"], \n",
    "    \"STATUS_5_sum\": [\"sum\"],\n",
    "    \"STATUS_5_mean\": [\"mean\"],\n",
    "    \"STATUS_C_sum\": [\"sum\"],\n",
    "    \"STATUS_C_mean\": [\"mean\"],\n",
    "    \"STATUS_X_sum\": [\"sum\"],\n",
    "    \"STATUS_X_mean\": [\"mean\"]\n",
    "}\n",
    "\n",
    "bureau = pd.get_dummies(bureau, dummy_na=True)\n",
    "\n",
    "cat_aggregations = {}\n",
    "for new_col in new_cols: cat_aggregations[new_col] = [\"mean\"]\n",
    "\n",
    "bureau_agg = bureau.groupby('SK_ID_CURR').agg({**num_aggregations, **cat_aggregations})\n",
    "bureau_agg.columns = [col[0]+\"_\"+col[1] for col in bureau_agg.columns.tolist()] #flatenning levels\n",
    "\n",
    "# Bureau: Active credits - using only numerical aggregations\n",
    "active = bureau[bureau[\"CREDIT_ACTIVE_Active\"] == 1]\n",
    "active_agg = active.groupby(\"SK_ID_CURR\").agg(num_aggregations)\n",
    "active_agg.columns = pd.Index([\"ACTIVE_\" + e[0] + \"_\" + e[1].upper() for e in active_agg.columns.tolist()])\n",
    "bureau_agg = bureau_agg.join(active_agg, how=\"left\", on=\"SK_ID_CURR\")\n",
    "\n",
    "# Bureau: Closed credits - using only numerical aggregations\n",
    "closed = bureau[bureau[\"CREDIT_ACTIVE_Closed\"] == 1]\n",
    "closed_agg = closed.groupby(\"SK_ID_CURR\").agg(num_aggregations)\n",
    "closed_agg.columns = pd.Index([\"CLOSED_\" + e[0] + \"_\" + e[1].upper() for e in closed_agg.columns.tolist()])\n",
    "bureau_agg = bureau_agg.join(closed_agg, how=\"left\", on=\"SK_ID_CURR\")\n",
    "\n",
    "del closed, bureau, active, active_agg, closed_agg"
   ]
  },
  {
   "cell_type": "markdown",
   "metadata": {},
   "source": [
    "#### previous_application file"
   ]
  },
  {
   "cell_type": "code",
   "execution_count": 7,
   "metadata": {},
   "outputs": [
    {
     "name": "stdout",
     "output_type": "stream",
     "text": [
      "previous_application:  (1670214, 37)\n"
     ]
    }
   ],
   "source": [
    "previous_application = pd.read_csv(\"C:\\\\Users\\\\heret\\\\Downloads\\\\previous_application.csv\")\n",
    "print(\"previous_application: \", previous_application.shape)\n",
    "\n",
    "previous_application[\"DAYS_FIRST_DRAWING\"].replace(365243, np.nan, inplace= True)\n",
    "previous_application[\"DAYS_FIRST_DUE\"].replace(365243, np.nan, inplace= True)\n",
    "previous_application[\"DAYS_LAST_DUE_1ST_VERSION\"].replace(365243, np.nan, inplace= True)\n",
    "previous_application[\"DAYS_LAST_DUE\"].replace(365243, np.nan, inplace= True)\n",
    "previous_application[\"DAYS_TERMINATION\"].replace(365243, np.nan, inplace= True)\n",
    "\n",
    "previous_application[\"APP_CREDIT_PERC\"] = previous_application[\"AMT_APPLICATION\"] / previous_application[\"AMT_CREDIT\"]\n",
    "\n",
    "\n",
    "new_cols = [col for col in pd.get_dummies(previous_application).columns if col not in previous_application.columns]\n",
    "num_aggregations = {\n",
    "        'AMT_ANNUITY': ['min', 'max', 'mean'],\n",
    "        'AMT_APPLICATION': ['min', 'max', 'mean'],\n",
    "        'AMT_CREDIT': ['min', 'max', 'mean'],\n",
    "        'APP_CREDIT_PERC': ['min', 'max', 'mean', 'var'],\n",
    "        'AMT_DOWN_PAYMENT': ['min', 'max', 'mean'],\n",
    "        'AMT_GOODS_PRICE': ['min', 'max', 'mean'],\n",
    "        'HOUR_APPR_PROCESS_START': ['min', 'max', 'mean'],\n",
    "        'RATE_DOWN_PAYMENT': ['min', 'max', 'mean'],\n",
    "        'DAYS_DECISION': ['min', 'max', 'mean'],\n",
    "        'CNT_PAYMENT': ['mean', 'sum'],\n",
    "}\n",
    "\n",
    "previous_application = pd.get_dummies(previous_application)\n",
    "\n",
    "cat_aggregations = {}\n",
    "for new_col in new_cols: cat_aggregations[new_col] = [\"mean\"]\n",
    "    \n",
    "previous_agg = previous_application.groupby(\"SK_ID_CURR\").agg({**num_aggregations, **cat_aggregations})\n",
    "previous_agg.columns = [col[0]+\"_\"+col[1] for col in previous_agg.columns.tolist()] #flatenning levels\n",
    "\n",
    "# Previous Applications: Approved Applications - only numerical features\n",
    "approved = previous_application[previous_application[\"NAME_CONTRACT_STATUS_Approved\"] == 1]\n",
    "approved_agg = approved.groupby(\"SK_ID_CURR\").agg(num_aggregations)\n",
    "approved_agg.columns = pd.Index([\"APPROVED_\" + e[0] + \"_\" + e[1].upper() for e in approved_agg.columns.tolist()])\n",
    "previous_agg = previous_agg.join(approved_agg, how=\"left\", on=\"SK_ID_CURR\")\n",
    "\n",
    "# Previous Applications: Refused Applications - only numerical features\n",
    "refused = previous_application[previous_application[\"NAME_CONTRACT_STATUS_Refused\"] == 1]\n",
    "refused_agg = refused.groupby(\"SK_ID_CURR\").agg(num_aggregations)\n",
    "refused_agg.columns = pd.Index([\"REFUSED_\" + e[0] + \"_\" + e[1].upper() for e in refused_agg.columns.tolist()])\n",
    "previous_agg = previous_agg.join(refused_agg, how=\"left\", on=\"SK_ID_CURR\")\n",
    "del refused, refused_agg, approved, approved_agg, previous_application"
   ]
  },
  {
   "cell_type": "markdown",
   "metadata": {},
   "source": [
    "#### POS_CASH_balance file"
   ]
  },
  {
   "cell_type": "code",
   "execution_count": 8,
   "metadata": {
    "scrolled": false
   },
   "outputs": [
    {
     "name": "stdout",
     "output_type": "stream",
     "text": [
      "pos_cash_balance:  (10001358, 8)\n"
     ]
    }
   ],
   "source": [
    "pos_cash_balance = pd.read_csv(\"C:\\\\Users\\\\heret\\\\Downloads\\\\POS_CASH_balance.csv\")\n",
    "print(\"pos_cash_balance: \", pos_cash_balance.shape)\n",
    "\n",
    "pos_cash_balance.drop(columns=[\"SK_ID_PREV\"], inplace=True)\n",
    "\n",
    "new_cols = [col for col in pd.get_dummies(pos_cash_balance).columns if col not in pos_cash_balance.columns]\n",
    "pos_cash_balance = pd.get_dummies(pos_cash_balance, dummy_na=True)\n",
    "\n",
    "aggregations = {\n",
    "    \"MONTHS_BALANCE\": [\"max\", \"mean\", \"size\"],\n",
    "    \"SK_DPD\": [\"max\", \"mean\"],\n",
    "    \"SK_DPD_DEF\": [\"max\", \"mean\"]\n",
    "}\n",
    "for cat in new_cols:\n",
    "    aggregations[cat] = [\"mean\"]\n",
    "\n",
    "pos_cash_balance_agg = pos_cash_balance.groupby(\"SK_ID_CURR\").agg(aggregations)\n",
    "pos_cash_balance_agg.columns = [col[0]+\"_\"+col[1] for col in pos_cash_balance_agg.columns.tolist()] #flatenning levels\n",
    "\n",
    "# Count pos cash accounts\n",
    "pos_cash_balance_agg[\"POS_COUNT\"] = pos_cash_balance.groupby(\"SK_ID_CURR\").size()\n",
    "\n",
    "del pos_cash_balance"
   ]
  },
  {
   "cell_type": "markdown",
   "metadata": {},
   "source": [
    "#### instalments_payments file"
   ]
  },
  {
   "cell_type": "code",
   "execution_count": 9,
   "metadata": {},
   "outputs": [
    {
     "name": "stdout",
     "output_type": "stream",
     "text": [
      "installments_payments:  (13605401, 8)\n"
     ]
    }
   ],
   "source": [
    "installments_payments = pd.read_csv(\"C:\\\\Users\\\\heret\\\\Downloads\\\\installments_payments.csv\")\n",
    "print(\"installments_payments: \", installments_payments.shape)\n",
    "\n",
    "installments_payments.drop(columns=[\"SK_ID_PREV\"], inplace=True)\n",
    "\n",
    "new_cols = [col for col in pd.get_dummies(installments_payments).columns if col not in installments_payments.columns]\n",
    "\n",
    "installments_payments = pd.get_dummies(installments_payments, dummy_na=True)\n",
    "\n",
    "# Percentage and difference paid in each installment (amount paid and installment value)\n",
    "installments_payments[\"PAYMENT_PERC\"] = installments_payments[\"AMT_PAYMENT\"] / installments_payments[\"AMT_INSTALMENT\"]\n",
    "installments_payments[\"PAYMENT_DIFF\"] = installments_payments[\"AMT_INSTALMENT\"] - installments_payments[\"AMT_PAYMENT\"]\n",
    "# Days past due and days before due (no negative values)\n",
    "installments_payments[\"DPD\"] = installments_payments[\"DAYS_ENTRY_PAYMENT\"] - installments_payments[\"DAYS_INSTALMENT\"]\n",
    "installments_payments[\"DBD\"] = installments_payments[\"DAYS_INSTALMENT\"] - installments_payments[\"DAYS_ENTRY_PAYMENT\"]\n",
    "installments_payments[\"DPD\"] = installments_payments[\"DPD\"].apply(lambda x: max(x,0))\n",
    "installments_payments[\"DBD\"] = installments_payments[\"DBD\"].apply(lambda x: max(x,0))\n",
    "\n",
    "aggregations = {\n",
    "    \"NUM_INSTALMENT_VERSION\": [\"nunique\"],\n",
    "    \"DPD\": [\"max\", \"mean\", \"sum\"],\n",
    "    \"DBD\": [\"max\", \"mean\", \"sum\"],\n",
    "    \"PAYMENT_PERC\": [ \"mean\",  \"var\"],\n",
    "    \"PAYMENT_DIFF\": [ \"mean\", \"var\"],\n",
    "    \"AMT_INSTALMENT\": [\"max\", \"mean\", \"sum\"],\n",
    "    \"AMT_PAYMENT\": [\"min\", \"max\", \"mean\", \"sum\"],\n",
    "    \"DAYS_ENTRY_PAYMENT\": [\"max\", \"mean\", \"sum\"]\n",
    "}\n",
    "\n",
    "for new_col in new_cols: aggregations[new_col] = [\"mean\"]\n",
    "\n",
    "ins_agg = installments_payments.groupby('SK_ID_CURR').agg(aggregations)\n",
    "ins_agg.columns = [col[0]+\"_\"+col[1] for col in ins_agg.columns.tolist()] #flatenning levels\n",
    "\n",
    "ins_agg['INSTAL_COUNT'] = installments_payments.groupby('SK_ID_CURR').size()\n",
    "\n",
    "del installments_payments"
   ]
  },
  {
   "cell_type": "markdown",
   "metadata": {},
   "source": [
    "#### credit_card_balance file"
   ]
  },
  {
   "cell_type": "code",
   "execution_count": 10,
   "metadata": {},
   "outputs": [
    {
     "name": "stdout",
     "output_type": "stream",
     "text": [
      "credit_card_balance:  (3840312, 23)\n"
     ]
    }
   ],
   "source": [
    "credit_card_balance = pd.read_csv(\"C:\\\\Users\\\\heret\\\\Downloads\\\\credit_card_balance.csv\")\n",
    "print(\"credit_card_balance: \", credit_card_balance.shape)\n",
    "\n",
    "credit_card_balance.drop(columns=[\"SK_ID_PREV\"], inplace=True)\n",
    "\n",
    "credit_card_balance = pd.get_dummies(credit_card_balance, dummy_na=True)\n",
    "\n",
    "credit_card_balance_agg = credit_card_balance.groupby(\"SK_ID_CURR\").agg([\"mean\", \"max\", \"var\", \"sum\"])\n",
    "credit_card_balance_agg.columns = [col[0]+\"_\"+col[1] for col in credit_card_balance_agg.columns.tolist()] #flatenning levels\n",
    "\n",
    "credit_card_balance_agg['CC_COUNT'] = credit_card_balance.groupby('SK_ID_CURR').size()\n",
    "\n",
    "del credit_card_balance"
   ]
  },
  {
   "cell_type": "markdown",
   "metadata": {},
   "source": [
    "#### train & test files"
   ]
  },
  {
   "cell_type": "code",
   "execution_count": 11,
   "metadata": {},
   "outputs": [],
   "source": [
    "train = pd.read_csv(\"C:\\\\Users\\\\heret\\\\Downloads\\\\application_train.csv\")\n",
    "test = pd.read_csv(\"C:\\\\Users\\\\heret\\\\Downloads\\\\application_test.csv\")"
   ]
  },
  {
   "cell_type": "code",
   "execution_count": 12,
   "metadata": {},
   "outputs": [],
   "source": [
    "train = train[train['CODE_GENDER'] != 'XNA'] #removes 4 ids with XNA value for gender\n",
    "\n",
    "all_data = pd.concat((train, test), sort=False).reset_index(drop=True)\n",
    "ntrain = train.shape[0]\n",
    "ntest = test.shape[0]"
   ]
  },
  {
   "cell_type": "code",
   "execution_count": 13,
   "metadata": {
    "scrolled": false
   },
   "outputs": [
    {
     "name": "stdout",
     "output_type": "stream",
     "text": [
      "Index(['NAME_CONTRACT_TYPE', 'CODE_GENDER', 'FLAG_OWN_CAR', 'FLAG_OWN_REALTY',\n",
      "       'NAME_TYPE_SUITE', 'NAME_INCOME_TYPE', 'NAME_EDUCATION_TYPE',\n",
      "       'NAME_FAMILY_STATUS', 'NAME_HOUSING_TYPE', 'OCCUPATION_TYPE',\n",
      "       'WEEKDAY_APPR_PROCESS_START', 'ORGANIZATION_TYPE', 'FONDKAPREMONT_MODE',\n",
      "       'HOUSETYPE_MODE', 'WALLSMATERIAL_MODE', 'EMERGENCYSTATE_MODE'],\n",
      "      dtype='object')\n"
     ]
    }
   ],
   "source": [
    "all_data[\"DAYS_EMPLOYED\"].replace(365243, np.nan, inplace= True)\n",
    "\n",
    "#new variables\n",
    "docs = [_f for _f in all_data.columns if \"FLAG_DOC\" in _f]\n",
    "live = [_f for _f in all_data.columns if (\"FLAG_\" in _f) & (\"FLAG_DOC\" not in _f) & (\"_FLAG_\" not in _f)]\n",
    "    \n",
    "inc_by_org = all_data[[\"AMT_INCOME_TOTAL\", \"ORGANIZATION_TYPE\"]].groupby(\"ORGANIZATION_TYPE\").median()[\"AMT_INCOME_TOTAL\"]\n",
    "\n",
    "all_data['INCOME_CREDIT_PERC'] = all_data['AMT_INCOME_TOTAL'] / all_data['AMT_CREDIT']\n",
    "all_data['INCOME_PER_PERSON'] = all_data['AMT_INCOME_TOTAL'] / all_data['CNT_FAM_MEMBERS']\n",
    "all_data['PAYMENT_RATE'] = all_data['AMT_ANNUITY'] / all_data['AMT_CREDIT']\n",
    "\n",
    "all_data[\"NEW_CREDIT_TO_ANNUITY_RATIO\"] = all_data[\"AMT_CREDIT\"] / all_data[\"AMT_ANNUITY\"]\n",
    "all_data[\"NEW_CREDIT_TO_GOODS_RATIO\"] = all_data[\"AMT_CREDIT\"] / all_data[\"AMT_GOODS_PRICE\"]\n",
    "all_data[\"NEW_DOC_IND_KURT\"] = all_data[docs].kurtosis(axis=1)\n",
    "all_data[\"NEW_LIVE_IND_SUM\"] = all_data[live].sum(axis=1)\n",
    "all_data[\"NEW_INC_PER_CHLD\"] = all_data[\"AMT_INCOME_TOTAL\"] / (1 + all_data[\"CNT_CHILDREN\"])\n",
    "all_data[\"NEW_INC_BY_ORG\"] = all_data[\"ORGANIZATION_TYPE\"].map(inc_by_org)\n",
    "all_data[\"NEW_EMPLOY_TO_BIRTH_RATIO\"] = all_data[\"DAYS_EMPLOYED\"] / all_data[\"DAYS_BIRTH\"]\n",
    "all_data[\"NEW_ANNUITY_TO_INCOME_RATIO\"] = all_data[\"AMT_ANNUITY\"] / (1 + all_data[\"AMT_INCOME_TOTAL\"])\n",
    "all_data[\"NEW_SOURCES_PROD\"] = all_data[\"EXT_SOURCE_1\"] * all_data[\"EXT_SOURCE_2\"] * all_data[\"EXT_SOURCE_3\"]\n",
    "all_data[\"NEW_EXT_SOURCES_MEAN\"] = all_data[[\"EXT_SOURCE_1\", \"EXT_SOURCE_2\", \"EXT_SOURCE_3\"]].mean(axis=1)\n",
    "all_data[\"NEW_SCORES_STD\"] = all_data[[\"EXT_SOURCE_1\", \"EXT_SOURCE_2\", \"EXT_SOURCE_3\"]].std(axis=1)\n",
    "all_data[\"NEW_SCORES_STD\"] = all_data[\"NEW_SCORES_STD\"].fillna(all_data[\"NEW_SCORES_STD\"].mean())\n",
    "all_data[\"NEW_CAR_TO_BIRTH_RATIO\"] = all_data[\"OWN_CAR_AGE\"] / all_data[\"DAYS_BIRTH\"]\n",
    "all_data[\"NEW_CAR_TO_EMPLOYED_RATIO\"] = all_data[\"OWN_CAR_AGE\"] / all_data[\"DAYS_EMPLOYED\"]\n",
    "all_data[\"NEW_PHONE_TO_BIRTH_RATIO\"] = all_data[\"DAYS_LAST_PHONE_CHANGE\"] / all_data[\"DAYS_BIRTH\"]\n",
    "all_data[\"NEW_PHONE_TO_EMPLOYED_RATIO\"] = all_data[\"DAYS_LAST_PHONE_CHANGE\"] / all_data[\"DAYS_EMPLOYED\"]\n",
    "all_data[\"NEW_CREDIT_TO_INCOME_RATIO\"] = all_data[\"AMT_CREDIT\"] / all_data[\"AMT_INCOME_TOTAL\"]\n",
    "# features commented out create infinite values see all_data.columns[~np.isfinite(all_data).all()]\n",
    "\n",
    "# categorical variables\n",
    "print(all_data.select_dtypes(\"object\").columns)\n",
    "\n",
    "for bin_feature in [\"CODE_GENDER\", \"FLAG_OWN_CAR\", \"FLAG_OWN_REALTY\"]:\n",
    "    all_data[bin_feature], uniques = pd.factorize(all_data[bin_feature]) #factorizing these binary features instead of OHE\n",
    "    \n",
    "all_data = pd.get_dummies(all_data)"
   ]
  },
  {
   "cell_type": "code",
   "execution_count": 14,
   "metadata": {},
   "outputs": [],
   "source": [
    "all_data = all_data.join(bureau_agg, how=\"left\", on=\"SK_ID_CURR\")\n",
    "all_data = all_data.join(previous_agg, how=\"left\", on=\"SK_ID_CURR\", lsuffix=\"left\", rsuffix=\"right\")\n",
    "all_data = all_data.join(credit_card_balance_agg, how=\"left\", on=\"SK_ID_CURR\", lsuffix=\"left\", rsuffix=\"right\")\n",
    "all_data = all_data.join(pos_cash_balance_agg, how=\"left\", on=\"SK_ID_CURR\", lsuffix=\"left\", rsuffix=\"right\")\n",
    "all_data = all_data.join(ins_agg, how=\"left\", on=\"SK_ID_CURR\", lsuffix=\"left\", rsuffix=\"right\")"
   ]
  },
  {
   "cell_type": "code",
   "execution_count": 15,
   "metadata": {},
   "outputs": [
    {
     "name": "stdout",
     "output_type": "stream",
     "text": [
      "Memory usage of dataframe is 1860.80 MB\n",
      "Memory usage after optimization is: 649.60 MB\n",
      "Decreased by 65.1%\n"
     ]
    }
   ],
   "source": [
    "all_data = reduce_mem_usage(all_data)"
   ]
  },
  {
   "cell_type": "code",
   "execution_count": 16,
   "metadata": {},
   "outputs": [
    {
     "name": "stdout",
     "output_type": "stream",
     "text": [
      "______\n",
      "train_X:  (307507, 799)    train_y:  (307507,)    test_X:  (48744, 799)\n"
     ]
    }
   ],
   "source": [
    "ids = test[\"SK_ID_CURR\"]\n",
    "train_y = train[\"TARGET\"]#.values\n",
    "train_X = all_data.drop(columns=[\"TARGET\", \"SK_ID_CURR\"],axis=1)[:ntrain]\n",
    "test_X = all_data.drop(columns=[\"TARGET\", \"SK_ID_CURR\"],axis=1)[ntrain:]\n",
    "train_X, test_X = train_X.align(test_X, join = 'inner', axis = 1)\n",
    "#train_X, test_X = train_X.values, test_X.values\n",
    "\n",
    "del test, train, bureau_agg, bureau_balance_agg, previous_agg, credit_card_balance_agg, ins_agg, pos_cash_balance_agg, all_data\n",
    "\n",
    "print(\"______\")\n",
    "print(\"train_X: \", train_X.shape, \"   train_y: \", train_y.shape, \"   test_X: \", test_X.shape)"
   ]
  },
  {
   "cell_type": "markdown",
   "metadata": {},
   "source": [
    "### Modeling"
   ]
  },
  {
   "cell_type": "code",
   "execution_count": 37,
   "metadata": {
    "scrolled": true
   },
   "outputs": [],
   "source": [
    "xgbclass = XGBClassifier(\n",
    "    n_jobs=-1,\n",
    "    n_estimators=3000,\n",
    "    colsample_bytree=0.7,\n",
    "    subsample=0.7,\n",
    "    learning_rate=0.075,\n",
    "    max_depth=7,\n",
    "    silent=-1,\n",
    "    verbose=-1,\n",
    "    eval_metric=\"auc\"\n",
    ")\n",
    "\n",
    "catboost = CatBoostClassifier(\n",
    "    thread_count=4,\n",
    "    iterations=3000,\n",
    "    nan_mode=\"Min\", #does not support NaN classes, either \"Min\"/\"Max\" or previous imputation to prevent dead kernel\n",
    "    eval_metric='AUC',\n",
    "    depth=7,\n",
    "    learning_rate=0.02,\n",
    "    #subsample=0.7,\n",
    "    l2_leaf_reg=40,\n",
    "    #bootstrap_type='Bernoulli',\n",
    "    #scale_pos_weight=5,\n",
    "    #metric_period=50,\n",
    "    od_type='Iter',\n",
    "    od_wait=150,  #number of rounds after the most recent best iteration to wait before stopping, relies on od_type=\"Iter\"\n",
    "    allow_writing_files=False,\n",
    ")\n",
    "\n",
    "\n",
    "lgbm = LGBMClassifier(\n",
    "    nthread=4,\n",
    "    n_estimators=3000,\n",
    "    learning_rate=0.02,\n",
    "    num_leaves=34,\n",
    "    colsample_bytree=0.9497036,\n",
    "    subsample=0.8715623,\n",
    "    max_depth=8,\n",
    "    reg_alpha=0.041545473,\n",
    "    reg_lambda=0.0735294,\n",
    "    min_split_gain=0.0222415,\n",
    "    min_child_weight=39.3259775,\n",
    "    silent=-1,\n",
    "    verbose=-1, \n",
    ")\n",
    "\n",
    "def stacked(X,y,T,clf,n_folds=5):\n",
    "    \n",
    "    folds = StratifiedKFold(n_splits=n_folds, shuffle=True)\n",
    "    valid_preds = np.zeros(X.shape[0])\n",
    "    test_preds = np.zeros(T.shape[0])\n",
    "    feature_importance_df = pd.DataFrame()\n",
    "\n",
    "    \n",
    "    for fold_no, (train_idx, valid_idx) in enumerate(folds.split(X,y)):\n",
    "        X_train = X.iloc[train_idx]\n",
    "        y_train = y.iloc[train_idx]\n",
    "        X_valid = X.iloc[valid_idx]\n",
    "        y_valid = y.iloc[valid_idx]\n",
    "  \n",
    "        if clf.__class__.__name__ == \"XGBClassifier\":\n",
    "            clf.fit(X_train, y_train, eval_set=[(X_train, y_train),(X_valid, y_valid)], verbose=30, eval_metric= 'auc', early_stopping_rounds=30)\n",
    "            valid_preds[valid_idx] = clf.predict_proba(X_valid, ntree_limit=clf.best_iteration)[:, 1]\n",
    "            test_preds += clf.predict_proba(T, ntree_limit=clf.best_iteration)[:, 1] / folds.n_splits\n",
    "        elif clf.__class__.__name__ == \"LGBMClassifier\":\n",
    "            clf.fit(X_train, y_train, eval_set=[(X_train, y_train),(X_valid, y_valid)], verbose=100, eval_metric= 'auc', early_stopping_rounds=300)\n",
    "            valid_preds[valid_idx] = clf.predict_proba(X_valid, num_iteration=clf.best_iteration_)[:, 1]\n",
    "            test_preds += clf.predict_proba(T, num_iteration=clf.best_iteration_)[:, 1] / folds.n_splits\n",
    "        elif clf.__class__.__name__ == \"CatBoostClassifier\":\n",
    "            clf.fit(X=train_X, y=train_y, verbose=30, eval_set=[(X_valid, y_valid)], use_best_model=True)\n",
    "            valid_preds[valid_idx] = clf.predict_proba(X_valid)[:, 1]\n",
    "            test_preds += clf.predict_proba(T)[:, 1] / folds.n_splits\n",
    "            \n",
    "        fold_importance_df = pd.DataFrame({'importance': clf.feature_importances_, 'feature': X.columns})\n",
    "        fold_importance_df[\"fold\"] = fold_no + 1\n",
    "        feature_importance_df = pd.concat([feature_importance_df, fold_importance_df], axis=0)\n",
    "    \n",
    "    print('Full AUC score %.5f' % roc_auc_score(y, valid_preds))\n",
    "    \n",
    "    cols = feature_importance_df[[\"feature\", \"importance\"]].groupby(\"feature\").mean().sort_values(by=\"importance\", ascending=False)[:75].index\n",
    "    best_features = feature_importance_df.loc[feature_importance_df.feature.isin(cols)]\n",
    "    plt.figure(figsize=(10,16))\n",
    "    sns.barplot(x=\"importance\", y=\"feature\", data=best_features.sort_values(by=\"importance\", ascending=False))\n",
    "    plt.title(str(clf.__class__.__name__ + \" Features (avg over folds)\"))\n",
    "    plt.tight_layout()\n",
    "    \n",
    "    \n",
    "    return (valid_preds, test_preds)"
   ]
  },
  {
   "cell_type": "code",
   "execution_count": 35,
   "metadata": {},
   "outputs": [
    {
     "name": "stdout",
     "output_type": "stream",
     "text": [
      "Training until validation scores don't improve for 300 rounds.\n",
      "[100]\ttraining's auc: 0.776066\tvalid_1's auc: 0.762438\n",
      "[200]\ttraining's auc: 0.798342\tvalid_1's auc: 0.77715\n",
      "[300]\ttraining's auc: 0.811674\tvalid_1's auc: 0.783683\n",
      "[400]\ttraining's auc: 0.821838\tvalid_1's auc: 0.786984\n",
      "[500]\ttraining's auc: 0.830496\tvalid_1's auc: 0.789195\n",
      "[600]\ttraining's auc: 0.838185\tvalid_1's auc: 0.790789\n",
      "[700]\ttraining's auc: 0.844816\tvalid_1's auc: 0.791646\n",
      "[800]\ttraining's auc: 0.851036\tvalid_1's auc: 0.792381\n",
      "[900]\ttraining's auc: 0.856838\tvalid_1's auc: 0.792797\n",
      "[1000]\ttraining's auc: 0.862271\tvalid_1's auc: 0.793286\n",
      "[1100]\ttraining's auc: 0.867576\tvalid_1's auc: 0.79366\n",
      "[1200]\ttraining's auc: 0.872266\tvalid_1's auc: 0.793774\n",
      "[1300]\ttraining's auc: 0.877069\tvalid_1's auc: 0.793675\n",
      "[1400]\ttraining's auc: 0.881758\tvalid_1's auc: 0.793679\n",
      "[1500]\ttraining's auc: 0.886044\tvalid_1's auc: 0.793716\n",
      "Early stopping, best iteration is:\n",
      "[1220]\ttraining's auc: 0.873362\tvalid_1's auc: 0.793843\n",
      "Training until validation scores don't improve for 300 rounds.\n",
      "[100]\ttraining's auc: 0.77692\tvalid_1's auc: 0.756029\n",
      "[200]\ttraining's auc: 0.799332\tvalid_1's auc: 0.770455\n",
      "[300]\ttraining's auc: 0.81297\tvalid_1's auc: 0.776864\n",
      "[400]\ttraining's auc: 0.822905\tvalid_1's auc: 0.780296\n",
      "[500]\ttraining's auc: 0.831719\tvalid_1's auc: 0.782395\n",
      "[600]\ttraining's auc: 0.839499\tvalid_1's auc: 0.783738\n",
      "[700]\ttraining's auc: 0.846394\tvalid_1's auc: 0.784504\n",
      "[800]\ttraining's auc: 0.852589\tvalid_1's auc: 0.785173\n",
      "[900]\ttraining's auc: 0.858171\tvalid_1's auc: 0.785769\n",
      "[1000]\ttraining's auc: 0.863933\tvalid_1's auc: 0.78636\n",
      "[1100]\ttraining's auc: 0.868921\tvalid_1's auc: 0.786587\n",
      "[1200]\ttraining's auc: 0.87385\tvalid_1's auc: 0.786811\n",
      "[1300]\ttraining's auc: 0.87832\tvalid_1's auc: 0.786817\n",
      "[1400]\ttraining's auc: 0.882818\tvalid_1's auc: 0.786907\n",
      "[1500]\ttraining's auc: 0.887191\tvalid_1's auc: 0.78707\n",
      "[1600]\ttraining's auc: 0.891086\tvalid_1's auc: 0.787135\n",
      "[1700]\ttraining's auc: 0.894866\tvalid_1's auc: 0.787276\n",
      "[1800]\ttraining's auc: 0.898599\tvalid_1's auc: 0.787528\n",
      "[1900]\ttraining's auc: 0.902196\tvalid_1's auc: 0.787697\n",
      "[2000]\ttraining's auc: 0.905693\tvalid_1's auc: 0.787892\n",
      "[2100]\ttraining's auc: 0.909104\tvalid_1's auc: 0.7878\n",
      "[2200]\ttraining's auc: 0.912358\tvalid_1's auc: 0.787783\n",
      "[2300]\ttraining's auc: 0.915369\tvalid_1's auc: 0.787675\n",
      "Early stopping, best iteration is:\n",
      "[2059]\ttraining's auc: 0.907779\tvalid_1's auc: 0.787908\n",
      "Training until validation scores don't improve for 300 rounds.\n",
      "[100]\ttraining's auc: 0.776268\tvalid_1's auc: 0.759646\n",
      "[200]\ttraining's auc: 0.798406\tvalid_1's auc: 0.77419\n",
      "[300]\ttraining's auc: 0.812019\tvalid_1's auc: 0.780891\n",
      "[400]\ttraining's auc: 0.822474\tvalid_1's auc: 0.784441\n",
      "[500]\ttraining's auc: 0.831566\tvalid_1's auc: 0.786465\n",
      "[600]\ttraining's auc: 0.839485\tvalid_1's auc: 0.78796\n",
      "[700]\ttraining's auc: 0.846355\tvalid_1's auc: 0.788997\n",
      "[800]\ttraining's auc: 0.85264\tvalid_1's auc: 0.789516\n",
      "[900]\ttraining's auc: 0.858267\tvalid_1's auc: 0.790025\n",
      "[1000]\ttraining's auc: 0.863685\tvalid_1's auc: 0.790259\n",
      "[1100]\ttraining's auc: 0.868916\tvalid_1's auc: 0.790396\n",
      "[1200]\ttraining's auc: 0.873923\tvalid_1's auc: 0.790657\n",
      "[1300]\ttraining's auc: 0.878587\tvalid_1's auc: 0.790735\n",
      "[1400]\ttraining's auc: 0.882964\tvalid_1's auc: 0.790577\n",
      "[1500]\ttraining's auc: 0.887138\tvalid_1's auc: 0.790446\n",
      "Early stopping, best iteration is:\n",
      "[1246]\ttraining's auc: 0.876047\tvalid_1's auc: 0.79078\n",
      "Training until validation scores don't improve for 300 rounds.\n",
      "[100]\ttraining's auc: 0.775821\tvalid_1's auc: 0.761755\n",
      "[200]\ttraining's auc: 0.797889\tvalid_1's auc: 0.776642\n",
      "[300]\ttraining's auc: 0.81125\tvalid_1's auc: 0.782947\n",
      "[400]\ttraining's auc: 0.821629\tvalid_1's auc: 0.786946\n",
      "[500]\ttraining's auc: 0.830208\tvalid_1's auc: 0.789299\n",
      "[600]\ttraining's auc: 0.83763\tvalid_1's auc: 0.790891\n",
      "[700]\ttraining's auc: 0.844503\tvalid_1's auc: 0.791962\n",
      "[800]\ttraining's auc: 0.850601\tvalid_1's auc: 0.792754\n",
      "[900]\ttraining's auc: 0.856652\tvalid_1's auc: 0.793518\n",
      "[1000]\ttraining's auc: 0.862476\tvalid_1's auc: 0.794132\n",
      "[1100]\ttraining's auc: 0.867727\tvalid_1's auc: 0.794341\n",
      "[1200]\ttraining's auc: 0.872892\tvalid_1's auc: 0.7948\n",
      "[1300]\ttraining's auc: 0.877537\tvalid_1's auc: 0.795055\n",
      "[1400]\ttraining's auc: 0.882005\tvalid_1's auc: 0.795309\n",
      "[1500]\ttraining's auc: 0.886251\tvalid_1's auc: 0.795358\n",
      "[1600]\ttraining's auc: 0.890391\tvalid_1's auc: 0.795514\n",
      "[1700]\ttraining's auc: 0.894412\tvalid_1's auc: 0.795548\n",
      "[1800]\ttraining's auc: 0.898094\tvalid_1's auc: 0.795721\n",
      "[1900]\ttraining's auc: 0.901457\tvalid_1's auc: 0.795747\n",
      "[2000]\ttraining's auc: 0.904931\tvalid_1's auc: 0.795761\n",
      "[2100]\ttraining's auc: 0.908296\tvalid_1's auc: 0.795676\n",
      "[2200]\ttraining's auc: 0.911508\tvalid_1's auc: 0.795536\n",
      "Early stopping, best iteration is:\n",
      "[1928]\ttraining's auc: 0.902546\tvalid_1's auc: 0.795829\n",
      "Training until validation scores don't improve for 300 rounds.\n",
      "[100]\ttraining's auc: 0.776404\tvalid_1's auc: 0.759427\n",
      "[200]\ttraining's auc: 0.798807\tvalid_1's auc: 0.773812\n",
      "[300]\ttraining's auc: 0.812427\tvalid_1's auc: 0.780028\n",
      "[400]\ttraining's auc: 0.822723\tvalid_1's auc: 0.783498\n",
      "[500]\ttraining's auc: 0.831382\tvalid_1's auc: 0.785573\n",
      "[600]\ttraining's auc: 0.839168\tvalid_1's auc: 0.787128\n",
      "[700]\ttraining's auc: 0.845909\tvalid_1's auc: 0.78799\n",
      "[800]\ttraining's auc: 0.852174\tvalid_1's auc: 0.788894\n",
      "[900]\ttraining's auc: 0.858316\tvalid_1's auc: 0.789441\n",
      "[1000]\ttraining's auc: 0.86358\tvalid_1's auc: 0.789806\n",
      "[1100]\ttraining's auc: 0.868748\tvalid_1's auc: 0.790151\n",
      "[1200]\ttraining's auc: 0.873672\tvalid_1's auc: 0.790474\n",
      "[1300]\ttraining's auc: 0.87847\tvalid_1's auc: 0.790612\n",
      "[1400]\ttraining's auc: 0.882955\tvalid_1's auc: 0.790633\n",
      "[1500]\ttraining's auc: 0.887291\tvalid_1's auc: 0.79078\n",
      "[1600]\ttraining's auc: 0.89156\tvalid_1's auc: 0.790773\n",
      "[1700]\ttraining's auc: 0.895284\tvalid_1's auc: 0.790783\n",
      "[1800]\ttraining's auc: 0.898988\tvalid_1's auc: 0.790749\n",
      "Early stopping, best iteration is:\n",
      "[1564]\ttraining's auc: 0.890077\tvalid_1's auc: 0.790871\n",
      "Full AUC score 0.79179\n",
      "Wall time: 53min 51s\n"
     ]
    },
    {
     "data": {
      "image/png": "[encoded data removed]",
      "text/plain": [
       "<Figure size 720x1152 with 1 Axes>"
      ]
     },
     "metadata": {},
     "output_type": "display_data"
    }
   ],
   "source": [
    "%%time\n",
    "valid_preds_lgbm, test_preds_lgbm = stacked(train_X,train_y,test_X,lgbm)"
   ]
  },
  {
   "cell_type": "code",
   "execution_count": 36,
   "metadata": {},
   "outputs": [
    {
     "data": {
      "text/html": [
       "<div>\n",
       "<style scoped>\n",
       "    .dataframe tbody tr th:only-of-type {\n",
       "        vertical-align: middle;\n",
       "    }\n",
       "\n",
       "    .dataframe tbody tr th {\n",
       "        vertical-align: top;\n",
       "    }\n",
       "\n",
       "    .dataframe thead th {\n",
       "        text-align: right;\n",
       "    }\n",
       "</style>\n",
       "<table border=\"1\" class=\"dataframe\">\n",
       "  <thead>\n",
       "    <tr style=\"text-align: right;\">\n",
       "      <th></th>\n",
       "      <th>SK_ID_CURR</th>\n",
       "      <th>TARGET</th>\n",
       "    </tr>\n",
       "  </thead>\n",
       "  <tbody>\n",
       "    <tr>\n",
       "      <th>0</th>\n",
       "      <td>100001</td>\n",
       "      <td>0.033657</td>\n",
       "    </tr>\n",
       "    <tr>\n",
       "      <th>1</th>\n",
       "      <td>100005</td>\n",
       "      <td>0.124002</td>\n",
       "    </tr>\n",
       "    <tr>\n",
       "      <th>2</th>\n",
       "      <td>100013</td>\n",
       "      <td>0.024783</td>\n",
       "    </tr>\n",
       "    <tr>\n",
       "      <th>3</th>\n",
       "      <td>100028</td>\n",
       "      <td>0.043388</td>\n",
       "    </tr>\n",
       "    <tr>\n",
       "      <th>4</th>\n",
       "      <td>100038</td>\n",
       "      <td>0.153467</td>\n",
       "    </tr>\n",
       "    <tr>\n",
       "      <th>5</th>\n",
       "      <td>100042</td>\n",
       "      <td>0.045393</td>\n",
       "    </tr>\n",
       "    <tr>\n",
       "      <th>6</th>\n",
       "      <td>100057</td>\n",
       "      <td>0.005844</td>\n",
       "    </tr>\n",
       "    <tr>\n",
       "      <th>7</th>\n",
       "      <td>100065</td>\n",
       "      <td>0.024604</td>\n",
       "    </tr>\n",
       "    <tr>\n",
       "      <th>8</th>\n",
       "      <td>100066</td>\n",
       "      <td>0.009553</td>\n",
       "    </tr>\n",
       "    <tr>\n",
       "      <th>9</th>\n",
       "      <td>100067</td>\n",
       "      <td>0.080552</td>\n",
       "    </tr>\n",
       "  </tbody>\n",
       "</table>\n",
       "</div>"
      ],
      "text/plain": [
       "   SK_ID_CURR    TARGET\n",
       "0      100001  0.033657\n",
       "1      100005  0.124002\n",
       "2      100013  0.024783\n",
       "3      100028  0.043388\n",
       "4      100038  0.153467\n",
       "5      100042  0.045393\n",
       "6      100057  0.005844\n",
       "7      100065  0.024604\n",
       "8      100066  0.009553\n",
       "9      100067  0.080552"
      ]
     },
     "execution_count": 36,
     "metadata": {},
     "output_type": "execute_result"
    }
   ],
   "source": [
    "my_submission = pd.DataFrame({\"SK_ID_CURR\": ids, \"TARGET\": test_preds_lgbm})\n",
    "my_submission.to_csv(\"lgbmv3.csv\", index=False)\n",
    "my_submission.head(10)"
   ]
  }
 ],
 "metadata": {
  "kernelspec": {
   "display_name": "Python 3",
   "language": "python",
   "name": "python3"
  },
  "language_info": {
   "codemirror_mode": {
    "name": "ipython",
    "version": 3
   },
   "file_extension": ".py",
   "mimetype": "text/x-python",
   "name": "python",
   "nbconvert_exporter": "python",
   "pygments_lexer": "ipython3",
   "version": "3.6.5"
  }
 },
 "nbformat": 4,
 "nbformat_minor": 2
}
